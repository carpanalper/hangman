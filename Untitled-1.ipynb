{
 "cells": [
  {
   "cell_type": "code",
   "execution_count": null,
   "metadata": {},
   "outputs": [],
   "source": [
    "def get_word():\n",
    "    theword = input(\"Choose the word: \")\n",
    "    print(f\"The word you chose is: {theword}\")\n",
    "    return theword\n",
    "\n",
    "get_word()"
   ]
  },
  {
   "cell_type": "code",
   "execution_count": 13,
   "metadata": {},
   "outputs": [
    {
     "data": {
      "text/plain": [
       "4"
      ]
     },
     "execution_count": 13,
     "metadata": {},
     "output_type": "execute_result"
    }
   ],
   "source": [
    "def get_lives():\n",
    "    number_of_lives = int(input(\"Choose the number of lives: \"))\n",
    "    return number_of_lives\n",
    "\n",
    "get_lives()"
   ]
  },
  {
   "cell_type": "code",
   "execution_count": 30,
   "metadata": {},
   "outputs": [
    {
     "data": {
      "text/plain": [
       "'t'"
      ]
     },
     "execution_count": 30,
     "metadata": {},
     "output_type": "execute_result"
    }
   ],
   "source": [
    "def get_guess(suggested_letter):\n",
    "    letter = input(\"Make a guess of a letter: \")\n",
    "    \n",
    "    while True:\n",
    "        if letter in suggested_letter:\n",
    "            letter = input(\"You've already made this guess, Try another: \")\n",
    "        elif len(letter) != 1:\n",
    "            letter = input(\"You guess should be a single letter: \")\n",
    "        else: \n",
    "            break\n",
    "    \n",
    "    return letter\n",
    "    \n",
    "\n",
    "suggested_letter = ['a','b','c']\n",
    "get_guess(suggested_letter)"
   ]
  },
  {
   "cell_type": "code",
   "execution_count": 2,
   "metadata": {},
   "outputs": [],
   "source": [
    "def assess_guess(secret_word,guessed_letter,lives_left):\n",
    "    secret_word = theword\n",
    "    guessed_letter = suggested_letter[-1]\n",
    "    lives_left = lives_left\n",
    "\n",
    "    if guessed_letter in secret_word:\n",
    "        lives_left = lives_left\n",
    "        print (f\"Correct!, you still have {lives_left} lives\")\n",
    "    else:\n",
    "        lives_left = lives_left - 1\n",
    "        print (f\"Missed!, now you have {lives_left} lives\")\n",
    "    \n",
    "    return "
   ]
  },
  {
   "cell_type": "code",
   "execution_count": 7,
   "metadata": {},
   "outputs": [
    {
     "name": "stdout",
     "output_type": "stream",
     "text": [
      "_ _ _ _ _\n"
     ]
    }
   ],
   "source": [
    "def display_word(secret_word, suggested_letters):\n",
    "    secret_word = theword\n",
    "    suggested_letters = suggested_letters\n",
    "    display = \" \".join(\"_\" for i in range(len(theword)))\n",
    "    print (display)\n",
    "    return True if display == theword else False\n",
    "\n",
    "theword = \"alper\"\n",
    "display = \" \".join(\"_\" for i in range(len(theword)))\n",
    "print (display)"
   ]
  }
 ],
 "metadata": {
  "kernelspec": {
   "display_name": "base",
   "language": "python",
   "name": "python3"
  },
  "language_info": {
   "codemirror_mode": {
    "name": "ipython",
    "version": 3
   },
   "file_extension": ".py",
   "mimetype": "text/x-python",
   "name": "python",
   "nbconvert_exporter": "python",
   "pygments_lexer": "ipython3",
   "version": "3.9.7"
  }
 },
 "nbformat": 4,
 "nbformat_minor": 2
}
